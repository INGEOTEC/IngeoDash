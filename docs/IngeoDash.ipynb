{
  "nbformat": 4,
  "nbformat_minor": 0,
  "metadata": {
    "colab": {
      "provenance": [],
      "collapsed_sections": [
        "f99GlO6CmACw"
      ]
    },
    "kernelspec": {
      "name": "python3",
      "display_name": "Python 3"
    },
    "language_info": {
      "name": "python"
    }
  },
  "cells": [
    {
      "cell_type": "markdown",
      "source": [
        "<p><img alt=\"Colaboratory logo\" height=\"50px\" src=\"https://github.com/INGEOTEC/text_models/raw/master/docs/source/ingeotec.png\" align=\"left\" hspace=\"10px\" vspace=\"0px\" /></p>\n",
        "\n",
        "<h1>IngeoDash</h1>\n",
        "\n",
        "### http://ingeotec.mx\n",
        "\n",
        "### http://github.com/ingeotec"
      ],
      "metadata": {
        "id": "_pNhbObSl2y2"
      }
    },
    {
      "cell_type": "markdown",
      "source": [
        "# Installing IngeoDash"
      ],
      "metadata": {
        "id": "f99GlO6CmACw"
      }
    },
    {
      "cell_type": "code",
      "execution_count": null,
      "metadata": {
        "id": "FXOXx7qDlkmA"
      },
      "outputs": [],
      "source": [
        "try:\n",
        "    import IngeoDash\n",
        "except ImportError:\n",
        "    !pip install IngeoDash"
      ]
    },
    {
      "cell_type": "markdown",
      "source": [
        "# Run"
      ],
      "metadata": {
        "id": "ahOmmsL4nlkj"
      }
    },
    {
      "cell_type": "code",
      "source": [
        "from IngeoDash.__main__ import run\n",
        "run()"
      ],
      "metadata": {
        "id": "z7jwlzvCnmoq"
      },
      "execution_count": null,
      "outputs": []
    }
  ]
}